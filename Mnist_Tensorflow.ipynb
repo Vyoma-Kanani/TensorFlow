{
  "nbformat": 4,
  "nbformat_minor": 0,
  "metadata": {
    "colab": {
      "name": "Mnist_Tensorflow.ipynb",
      "provenance": [],
      "collapsed_sections": [],
      "authorship_tag": "ABX9TyOAR+j2yO7xY5U5uOzo/Gqt",
      "include_colab_link": true
    },
    "kernelspec": {
      "display_name": "Python 3",
      "name": "python3"
    },
    "language_info": {
      "name": "python"
    }
  },
  "cells": [
    {
      "cell_type": "markdown",
      "metadata": {
        "id": "view-in-github",
        "colab_type": "text"
      },
      "source": [
        "<a href=\"https://colab.research.google.com/github/Vyoma-Kanani/TensorFlow/blob/main/Mnist_Tensorflow.ipynb\" target=\"_parent\"><img src=\"https://colab.research.google.com/assets/colab-badge.svg\" alt=\"Open In Colab\"/></a>"
      ]
    },
    {
      "cell_type": "markdown",
      "metadata": {
        "id": "hJgngld-BLik"
      },
      "source": [
        "# MNIST Dataset\n"
      ]
    },
    {
      "cell_type": "code",
      "metadata": {
        "id": "aEETVIYYfhAp",
        "colab": {
          "base_uri": "https://localhost:8080/"
        },
        "outputId": "1dca1028-528f-4e06-c4c1-0030efe38590"
      },
      "source": [
        "!pip install tensorflow_datasets"
      ],
      "execution_count": null,
      "outputs": [
        {
          "output_type": "stream",
          "text": [
            "Requirement already satisfied: tensorflow_datasets in /usr/local/lib/python3.7/dist-packages (4.0.1)\n",
            "Requirement already satisfied: dm-tree in /usr/local/lib/python3.7/dist-packages (from tensorflow_datasets) (0.1.6)\n",
            "Requirement already satisfied: absl-py in /usr/local/lib/python3.7/dist-packages (from tensorflow_datasets) (0.12.0)\n",
            "Requirement already satisfied: termcolor in /usr/local/lib/python3.7/dist-packages (from tensorflow_datasets) (1.1.0)\n",
            "Requirement already satisfied: numpy in /usr/local/lib/python3.7/dist-packages (from tensorflow_datasets) (1.19.5)\n",
            "Requirement already satisfied: future in /usr/local/lib/python3.7/dist-packages (from tensorflow_datasets) (0.16.0)\n",
            "Requirement already satisfied: protobuf>=3.6.1 in /usr/local/lib/python3.7/dist-packages (from tensorflow_datasets) (3.12.4)\n",
            "Requirement already satisfied: tensorflow-metadata in /usr/local/lib/python3.7/dist-packages (from tensorflow_datasets) (0.30.0)\n",
            "Requirement already satisfied: attrs>=18.1.0 in /usr/local/lib/python3.7/dist-packages (from tensorflow_datasets) (21.2.0)\n",
            "Requirement already satisfied: importlib-resources; python_version < \"3.9\" in /usr/local/lib/python3.7/dist-packages (from tensorflow_datasets) (5.1.2)\n",
            "Requirement already satisfied: dill in /usr/local/lib/python3.7/dist-packages (from tensorflow_datasets) (0.3.3)\n",
            "Requirement already satisfied: promise in /usr/local/lib/python3.7/dist-packages (from tensorflow_datasets) (2.3)\n",
            "Requirement already satisfied: requests>=2.19.0 in /usr/local/lib/python3.7/dist-packages (from tensorflow_datasets) (2.23.0)\n",
            "Requirement already satisfied: six in /usr/local/lib/python3.7/dist-packages (from tensorflow_datasets) (1.15.0)\n",
            "Requirement already satisfied: tqdm in /usr/local/lib/python3.7/dist-packages (from tensorflow_datasets) (4.41.1)\n",
            "Requirement already satisfied: setuptools in /usr/local/lib/python3.7/dist-packages (from protobuf>=3.6.1->tensorflow_datasets) (56.1.0)\n",
            "Requirement already satisfied: googleapis-common-protos<2,>=1.52.0 in /usr/local/lib/python3.7/dist-packages (from tensorflow-metadata->tensorflow_datasets) (1.53.0)\n",
            "Requirement already satisfied: zipp>=0.4; python_version < \"3.8\" in /usr/local/lib/python3.7/dist-packages (from importlib-resources; python_version < \"3.9\"->tensorflow_datasets) (3.4.1)\n",
            "Requirement already satisfied: chardet<4,>=3.0.2 in /usr/local/lib/python3.7/dist-packages (from requests>=2.19.0->tensorflow_datasets) (3.0.4)\n",
            "Requirement already satisfied: idna<3,>=2.5 in /usr/local/lib/python3.7/dist-packages (from requests>=2.19.0->tensorflow_datasets) (2.10)\n",
            "Requirement already satisfied: certifi>=2017.4.17 in /usr/local/lib/python3.7/dist-packages (from requests>=2.19.0->tensorflow_datasets) (2020.12.5)\n",
            "Requirement already satisfied: urllib3!=1.25.0,!=1.25.1,<1.26,>=1.21.1 in /usr/local/lib/python3.7/dist-packages (from requests>=2.19.0->tensorflow_datasets) (1.24.3)\n"
          ],
          "name": "stdout"
        }
      ]
    },
    {
      "cell_type": "code",
      "metadata": {
        "id": "ZooEH_fr-dyL"
      },
      "source": [
        "import tensorflow as tf\n",
        "from tensorflow import keras\n",
        "from tensorflow.keras import layers\n",
        "from tensorflow.keras.datasets import mnist\n",
        "import tensorflow_datasets as tfds"
      ],
      "execution_count": null,
      "outputs": []
    },
    {
      "cell_type": "markdown",
      "metadata": {
        "id": "K1QZNBsgjAhD"
      },
      "source": [
        "Loading data"
      ]
    },
    {
      "cell_type": "code",
      "metadata": {
        "colab": {
          "base_uri": "https://localhost:8080/"
        },
        "id": "EOFjwqM79W7Y",
        "outputId": "3ae1bc0a-d507-45aa-c712-511ca8b320db"
      },
      "source": [
        "# Alternative to Load Dataset through tensorflow_datasets\n",
        "(ds_train, ds_test), ds_info = tfds.load(\n",
        "    # Same as tensorflow dataset catalog\n",
        "    \"mnist\",\n",
        "    # If validation then add that as well\n",
        "    split=[\"train\", \"test\"],\n",
        "    # So that it doesnot see the exact same sequence of the data\n",
        "    shuffle_files=True,\n",
        "    as_supervised=True,  # will return tuple (img, label) otherwise dict\n",
        "    with_info=True,  # able to get info about dataset\n",
        ")\n",
        "\n",
        "ds_info"
      ],
      "execution_count": null,
      "outputs": [
        {
          "output_type": "execute_result",
          "data": {
            "text/plain": [
              "tfds.core.DatasetInfo(\n",
              "    name='mnist',\n",
              "    version=3.0.1,\n",
              "    description='The MNIST database of handwritten digits.',\n",
              "    homepage='http://yann.lecun.com/exdb/mnist/',\n",
              "    features=FeaturesDict({\n",
              "        'image': Image(shape=(28, 28, 1), dtype=tf.uint8),\n",
              "        'label': ClassLabel(shape=(), dtype=tf.int64, num_classes=10),\n",
              "    }),\n",
              "    total_num_examples=70000,\n",
              "    splits={\n",
              "        'test': 10000,\n",
              "        'train': 60000,\n",
              "    },\n",
              "    supervised_keys=('image', 'label'),\n",
              "    citation=\"\"\"@article{lecun2010mnist,\n",
              "      title={MNIST handwritten digit database},\n",
              "      author={LeCun, Yann and Cortes, Corinna and Burges, CJ},\n",
              "      journal={ATT Labs [Online]. Available: http://yann.lecun.com/exdb/mnist},\n",
              "      volume={2},\n",
              "      year={2010}\n",
              "    }\"\"\",\n",
              "    redistribution_info=,\n",
              ")"
            ]
          },
          "metadata": {
            "tags": []
          },
          "execution_count": 34
        }
      ]
    },
    {
      "cell_type": "code",
      "metadata": {
        "colab": {
          "base_uri": "https://localhost:8080/",
          "height": 1000
        },
        "id": "0-8rKCCi-xeg",
        "outputId": "2f4944c4-4f8a-46c0-ceb7-6dfca9635d2e"
      },
      "source": [
        "# We have to set as_supervised as False\n",
        "# fig = tfds.show_examples(ds_train, ds_info, rows=4, cols=4)\n",
        "# print(ds_info)"
      ],
      "execution_count": null,
      "outputs": [
        {
          "output_type": "display_data",
          "data": {
            "image/png": "[encoded data removed]",
            "text/plain": [
              "<Figure size 864x864 with 16 Axes>"
            ]
          },
          "metadata": {
            "tags": []
          }
        },
        {
          "output_type": "stream",
          "text": [
            "tfds.core.DatasetInfo(\n",
            "    name='mnist',\n",
            "    version=3.0.1,\n",
            "    description='The MNIST database of handwritten digits.',\n",
            "    homepage='http://yann.lecun.com/exdb/mnist/',\n",
            "    features=FeaturesDict({\n",
            "        'image': Image(shape=(28, 28, 1), dtype=tf.uint8),\n",
            "        'label': ClassLabel(shape=(), dtype=tf.int64, num_classes=10),\n",
            "    }),\n",
            "    total_num_examples=70000,\n",
            "    splits={\n",
            "        'test': 10000,\n",
            "        'train': 60000,\n",
            "    },\n",
            "    supervised_keys=('image', 'label'),\n",
            "    citation=\"\"\"@article{lecun2010mnist,\n",
            "      title={MNIST handwritten digit database},\n",
            "      author={LeCun, Yann and Cortes, Corinna and Burges, CJ},\n",
            "      journal={ATT Labs [Online]. Available: http://yann.lecun.com/exdb/mnist},\n",
            "      volume={2},\n",
            "      year={2010}\n",
            "    }\"\"\",\n",
            "    redistribution_info=,\n",
            ")\n",
            "\n"
          ],
          "name": "stdout"
        }
      ]
    },
    {
      "cell_type": "code",
      "metadata": {
        "colab": {
          "base_uri": "https://localhost:8080/"
        },
        "id": "a7YHHcTxf85l",
        "outputId": "2b30ab93-5d49-44a7-f605-05133165776f"
      },
      "source": [
        "(x_train, y_train),(x_test, y_test) = mnist.load_data()\n",
        "x_train.shape, y_train.shape, x_test.shape, y_test.shape"
      ],
      "execution_count": null,
      "outputs": [
        {
          "output_type": "stream",
          "text": [
            "Downloading data from https://storage.googleapis.com/tensorflow/tf-keras-datasets/mnist.npz\n",
            "11493376/11490434 [==============================] - 0s 0us/step\n"
          ],
          "name": "stdout"
        },
        {
          "output_type": "execute_result",
          "data": {
            "text/plain": [
              "((60000, 28, 28), (60000,), (10000, 28, 28), (10000,))"
            ]
          },
          "metadata": {
            "tags": []
          },
          "execution_count": 2
        }
      ]
    },
    {
      "cell_type": "markdown",
      "metadata": {
        "id": "XYDo4Kg3j0TA"
      },
      "source": [
        "So there are 60000 images with 28*28 pixsel.<br>\n",
        "As we are gonna send them to neural network v require 1 column with those feature value."
      ]
    },
    {
      "cell_type": "code",
      "metadata": {
        "id": "sDoROG9Hji_F"
      },
      "source": [
        "# As we want to keep those 60000 values as it is so -1 and we have flatten 2 dimensions 28*28 = 784 \n",
        "# The data are gonna be numpy arrays\n",
        "# Also Normalize the value so rather than being from 0 to 255 it should be between 0 and 1\n",
        "\n",
        "x_train = x_train.reshape(-1, 28 * 28).astype(\"float32\") / 255.0\n",
        "x_test = x_test.reshape(-1, 28 * 28).astype(\"float32\") / 255.0\n",
        "\n",
        "# Can also do\n",
        "# x_train = tf.convert_to_tensor(x_train)"
      ],
      "execution_count": null,
      "outputs": []
    },
    {
      "cell_type": "markdown",
      "metadata": {
        "id": "Dn8TxTR0kO9w"
      },
      "source": [
        "## Models\n",
        "### Sequential API (Very convenient but not very flexible )\n",
        "It only allows you to have one input maps to one output\n"
      ]
    },
    {
      "cell_type": "code",
      "metadata": {
        "colab": {
          "base_uri": "https://localhost:8080/"
        },
        "id": "AbFydNMjIxcF",
        "outputId": "e94ae726-c56d-4203-d830-a5b14b51bf81"
      },
      "source": [
        "model = keras.Sequential(\n",
        "    [\n",
        "      keras.Input(shape=(28*28)), #To get the summary of model\n",
        "      layers.Dense(512, activation=\"relu\"),    # Dense is for fully connected layer    \n",
        "      layers.Dense(256, activation='relu', name='SecondLayer'),\n",
        "      layers.Dense(10) #for output and activation is Soft Max which is going to be handled by loss function\n",
        "    #  If we mention activition function i.e softmax here then from_logits will be false else true\n",
        "    ]\n",
        ")\n",
        "\n",
        "# Alternative of above code Here we can write inbetwwen model.summary to get the info \n",
        "model = keras.Sequential()\n",
        "model.add(keras.Input(shape=(784)))\n",
        "model.add(layers.Dense(512, activation=\"relu\"))\n",
        "model.add(layers.Dense(256, activation=\"relu\", name=\"my_layer\"))\n",
        "model.add(layers.Dense(10))\n",
        "\n",
        "# To extract specific layer output which helps during debugging\n",
        "model = keras.Model(inputs = model.inputs, outputs = [model.layers[-1].output]) \n",
        "# Here -1 means the last layer, -2 will be the last second layer and so on \n",
        "\n",
        "# Can even access layer through name\n",
        "model = keras.Model(inputs = model.inputs, outputs = [model.get_layer('my_layer').output])\n",
        "\n",
        "# This is for the specific we send in\n",
        "feature = model.predict(x_train)\n",
        "print(feature.shape)\n",
        "# It will print 60000,256\n",
        "\n",
        "# To get all layers\n",
        "model = keras.Model(inputs = model.inputs, outputs = [layer.output for layer in model.layers] )\n",
        "\n",
        "features = model.predict(x_train)\n",
        "for feature in features:\n",
        "  print(feature.shape)\n",
        "\n",
        "# If we remove keras.Input then we could not print summary here insted we can but after model.fit onen the connection is send to model \n",
        "print(model.summary())\n",
        "\n"
      ],
      "execution_count": null,
      "outputs": [
        {
          "output_type": "stream",
          "text": [
            "(60000, 256)\n",
            "(60000, 784)\n",
            "(60000, 512)\n",
            "(60000, 256)\n",
            "Model: \"model_2\"\n",
            "_________________________________________________________________\n",
            "Layer (type)                 Output Shape              Param #   \n",
            "=================================================================\n",
            "input_2 (InputLayer)         [(None, 784)]             0         \n",
            "_________________________________________________________________\n",
            "dense_2 (Dense)              (None, 512)               401920    \n",
            "_________________________________________________________________\n",
            "my_layer (Dense)             (None, 256)               131328    \n",
            "=================================================================\n",
            "Total params: 533,248\n",
            "Trainable params: 533,248\n",
            "Non-trainable params: 0\n",
            "_________________________________________________________________\n",
            "None\n"
          ],
          "name": "stdout"
        }
      ]
    },
    {
      "cell_type": "markdown",
      "metadata": {
        "id": "Wf6RWBfgSQst"
      },
      "source": [
        "### Functional API (A bit more flexible)\n",
        "Handel multiple input and multiple output\n"
      ]
    },
    {
      "cell_type": "code",
      "metadata": {
        "colab": {
          "base_uri": "https://localhost:8080/"
        },
        "id": "GSa7eu4tScar",
        "outputId": "e230348e-8b71-4557-cd90-89e8cd023115"
      },
      "source": [
        "input = keras.Input(shape=(28*28))\n",
        "x= layers.Dense(512, activation='relu', name='First_layer')(input)  #Basically we are connecting input layer with x\n",
        "x= layers.Dense(256,activation='relu', name='Second_layer')(x)\n",
        "outputs = layers.Dense(10, activation='softmax')(x)\n",
        "# If we mention activition in output layer we have to set from_logits = False which is also default argument\n",
        "\n",
        "model = keras.Model(inputs=input, outputs = outputs)\n",
        "\n",
        "print(model.summary)"
      ],
      "execution_count": null,
      "outputs": [
        {
          "output_type": "stream",
          "text": [
            "<bound method Model.summary of <tensorflow.python.keras.engine.functional.Functional object at 0x7fd1c7fa7a90>>\n"
          ],
          "name": "stdout"
        }
      ]
    },
    {
      "cell_type": "markdown",
      "metadata": {
        "id": "r7qbieNz-66U"
      },
      "source": [
        "#### Using SGD (Stochastic Gradient Descent) as optimizer"
      ]
    },
    {
      "cell_type": "code",
      "metadata": {
        "colab": {
          "base_uri": "https://localhost:8080/"
        },
        "id": "1oj2xlAqXJtE",
        "outputId": "1a632844-b393-49ee-a9ac-f6ed0e79724c"
      },
      "source": [
        "# How to configure the training part of the network\n",
        "# This specifies the network configuration\n",
        "model.compile(\n",
        "    #As we did logit = true its going to send it in to a soft max first and then it is going to map it to SparseCategoricalCrossentropy  \n",
        "    # SparseCategoricalCrossentropy is for numerical categorical if we only write CategorialCrossentropy then we have to use Onehotencoding\n",
        "    loss= keras.losses.SparseCategoricalCrossentropy(from_logits=False), \n",
        "    # optimizer = keras.optimizers.Adam(lr=0.001),  #learning rate\n",
        "    # Using Different optimizers\n",
        "    optimizer = keras.optimizers.SGD(lr=0.001),\n",
        "    metrics = [\"accuracy\"],\n",
        ")\n",
        "\n",
        "#Defines concrete training of the network\n",
        "model.fit(x_train, y_train,  batch_size = 32, epochs = 5, verbose = 2 )\n",
        "\n",
        "# After Training lets test it \n",
        "model.evaluate(x_test, y_test, batch_size = 32, verbose = 2 )"
      ],
      "execution_count": null,
      "outputs": [
        {
          "output_type": "stream",
          "text": [
            "Epoch 1/5\n",
            "1875/1875 - 8s - loss: 1.6565 - accuracy: 0.6084\n",
            "Epoch 2/5\n",
            "1875/1875 - 8s - loss: 0.7922 - accuracy: 0.8337\n",
            "Epoch 3/5\n",
            "1875/1875 - 8s - loss: 0.5440 - accuracy: 0.8673\n",
            "Epoch 4/5\n",
            "1875/1875 - 8s - loss: 0.4509 - accuracy: 0.8833\n",
            "Epoch 5/5\n",
            "1875/1875 - 8s - loss: 0.4013 - accuracy: 0.8924\n",
            "313/313 - 1s - loss: 0.3637 - accuracy: 0.9036\n"
          ],
          "name": "stdout"
        },
        {
          "output_type": "execute_result",
          "data": {
            "text/plain": [
              "[0.3636521100997925, 0.9035999774932861]"
            ]
          },
          "metadata": {
            "tags": []
          },
          "execution_count": 7
        }
      ]
    },
    {
      "cell_type": "markdown",
      "metadata": {
        "id": "DcDvQSC__dD9"
      },
      "source": [
        "#### Using Adagrad (Adaptive Gradient Algorithm) as optimizer\n",
        "Adaptive Gradient Algorithm (Adagrad) is an algorithm for gradient-based optimization. "
      ]
    },
    {
      "cell_type": "code",
      "metadata": {
        "colab": {
          "base_uri": "https://localhost:8080/"
        },
        "id": "u4aYdHDj_i9G",
        "outputId": "1ccc940f-8f9d-4805-dc5c-a77b2563e7af"
      },
      "source": [
        "model.compile(\n",
        "    loss= keras.losses.SparseCategoricalCrossentropy(from_logits=False), \n",
        "    optimizer = keras.optimizers.Adagrad(lr=0.001),  #learning rate\n",
        "    metrics = [\"accuracy\"],\n",
        ")\n",
        "\n",
        "model.fit(x_train, y_train,  batch_size = 32, epochs = 5, verbose = 2 )\n",
        "model.evaluate(x_test, y_test, batch_size = 32, verbose = 2 )"
      ],
      "execution_count": null,
      "outputs": [
        {
          "output_type": "stream",
          "text": [
            "Epoch 1/5\n",
            "1875/1875 - 9s - loss: 0.0159 - accuracy: 0.9954\n",
            "Epoch 2/5\n",
            "1875/1875 - 9s - loss: 0.0125 - accuracy: 0.9964\n",
            "Epoch 3/5\n",
            "1875/1875 - 9s - loss: 0.0110 - accuracy: 0.9969\n",
            "Epoch 4/5\n",
            "1875/1875 - 9s - loss: 0.0099 - accuracy: 0.9973\n",
            "Epoch 5/5\n",
            "1875/1875 - 9s - loss: 0.0092 - accuracy: 0.9975\n",
            "313/313 - 1s - loss: 0.0629 - accuracy: 0.9826\n"
          ],
          "name": "stdout"
        },
        {
          "output_type": "execute_result",
          "data": {
            "text/plain": [
              "[0.06293357163667679, 0.9825999736785889]"
            ]
          },
          "metadata": {
            "tags": []
          },
          "execution_count": 9
        }
      ]
    },
    {
      "cell_type": "markdown",
      "metadata": {
        "id": "WnqzEl43ACtO"
      },
      "source": [
        "#### Using RMSprop as Optimizer"
      ]
    },
    {
      "cell_type": "code",
      "metadata": {
        "colab": {
          "base_uri": "https://localhost:8080/"
        },
        "id": "x5M1MBHKAO_B",
        "outputId": "a3e51452-9b8c-452c-a1e2-c5a369dc9435"
      },
      "source": [
        "model.compile(\n",
        "    loss= keras.losses.SparseCategoricalCrossentropy(from_logits=False), \n",
        "    optimizer = keras.optimizers.RMSprop(lr=0.001),  #learning rate\n",
        "    metrics = [\"accuracy\"],\n",
        ")\n",
        "\n",
        "model.fit(x_train, y_train,  batch_size = 32, epochs = 5, verbose = 2 )\n",
        "model.evaluate(x_test, y_test, batch_size = 32, verbose = 2 )"
      ],
      "execution_count": null,
      "outputs": [
        {
          "output_type": "stream",
          "text": [
            "Epoch 1/5\n",
            "1875/1875 - 14s - loss: 0.0153 - accuracy: 0.9956\n",
            "Epoch 2/5\n",
            "1875/1875 - 13s - loss: 0.0127 - accuracy: 0.9969\n",
            "Epoch 3/5\n",
            "1875/1875 - 13s - loss: 0.0111 - accuracy: 0.9973\n",
            "Epoch 4/5\n",
            "1875/1875 - 13s - loss: 0.0106 - accuracy: 0.9975\n",
            "Epoch 5/5\n",
            "1875/1875 - 13s - loss: 0.0078 - accuracy: 0.9981\n",
            "313/313 - 1s - loss: 0.1532 - accuracy: 0.9842\n"
          ],
          "name": "stdout"
        },
        {
          "output_type": "execute_result",
          "data": {
            "text/plain": [
              "[0.15321926772594452, 0.9842000007629395]"
            ]
          },
          "metadata": {
            "tags": []
          },
          "execution_count": 10
        }
      ]
    },
    {
      "cell_type": "markdown",
      "metadata": {
        "id": "OVmP1lAK_Iz2"
      },
      "source": [
        "#### Using Adam as Optimizer\n",
        "Adam is a replacement optimization algorithm for stochastic gradient descent for training deep learning models. Adam combines the best properties of the AdaGrad and RMSProp algorithms to provide an optimization algorithm that can handle sparse gradients on noisy problems."
      ]
    },
    {
      "cell_type": "code",
      "metadata": {
        "colab": {
          "base_uri": "https://localhost:8080/"
        },
        "id": "5a5HeJzLYyuH",
        "outputId": "d9d7d453-a5be-4b09-d823-37087aca1a41"
      },
      "source": [
        "model.compile(\n",
        "    loss= keras.losses.SparseCategoricalCrossentropy(from_logits=False), \n",
        "    optimizer = keras.optimizers.Adam(lr=0.001),  #learning rate\n",
        "    metrics = [\"accuracy\"],\n",
        ")\n",
        "\n",
        "model.fit(x_train, y_train,  batch_size = 32, epochs = 5, verbose = 2 )\n",
        "model.evaluate(x_test, y_test, batch_size = 32, verbose = 2 )"
      ],
      "execution_count": null,
      "outputs": [
        {
          "output_type": "stream",
          "text": [
            "Epoch 1/5\n",
            "1875/1875 - 10s - loss: 0.1695 - accuracy: 0.9491\n",
            "Epoch 2/5\n",
            "1875/1875 - 9s - loss: 0.0780 - accuracy: 0.9751\n",
            "Epoch 3/5\n",
            "1875/1875 - 9s - loss: 0.0538 - accuracy: 0.9825\n",
            "Epoch 4/5\n",
            "1875/1875 - 9s - loss: 0.0398 - accuracy: 0.9871\n",
            "Epoch 5/5\n",
            "1875/1875 - 9s - loss: 0.0330 - accuracy: 0.9896\n",
            "313/313 - 1s - loss: 0.0797 - accuracy: 0.9785\n"
          ],
          "name": "stdout"
        },
        {
          "output_type": "execute_result",
          "data": {
            "text/plain": [
              "[0.07970888167619705, 0.9785000085830688]"
            ]
          },
          "metadata": {
            "tags": []
          },
          "execution_count": 8
        }
      ]
    },
    {
      "cell_type": "markdown",
      "metadata": {
        "id": "0vdBIg2kAlZn"
      },
      "source": [
        "Comparing SGD, Adagrad, RMSprop, and Adam it is seen that for MNIST dataset the model with highest accuracy is obtained using RMSprop optimizer.\n",
        "\n",
        "---\n",
        "\n",
        "\n",
        "\n",
        "---\n",
        "\n"
      ]
    },
    {
      "cell_type": "markdown",
      "metadata": {
        "id": "vDrx6Lsy31AW"
      },
      "source": [
        "## RNNs, GRUs, LSTMs and Bidirectionality"
      ]
    },
    {
      "cell_type": "markdown",
      "metadata": {
        "id": "_5a3wgYG_VIU"
      },
      "source": [
        "Reloding the data"
      ]
    },
    {
      "cell_type": "code",
      "metadata": {
        "id": "bihSCyNa_VfO"
      },
      "source": [
        "(x_train, y_train), (x_test, y_test) = mnist.load_data()\n",
        "\n",
        "x_train = x_train.reshape([-1, 28, 28]).astype(\"float32\") / 255.0\n",
        "x_test = x_test.reshape([-1, 28, 28]).astype(\"float32\") / 255.0"
      ],
      "execution_count": null,
      "outputs": []
    },
    {
      "cell_type": "markdown",
      "metadata": {
        "id": "0bhNbwaE-PIx"
      },
      "source": [
        "### RNN"
      ]
    },
    {
      "cell_type": "code",
      "metadata": {
        "colab": {
          "base_uri": "https://localhost:8080/"
        },
        "id": "HrlbreRU3zz4",
        "outputId": "6754112c-8f1c-4fd1-cc08-d77978bfe733"
      },
      "source": [
        "model = keras.Sequential()\n",
        "model.add(keras.Input(shape=(None, 28))) #We dont to have a specific number of time step we dont need to specify that dementions\n",
        "model.add(\n",
        "    # It will return the output for each time step. In that way we can stack multiple RNN layers on top of each other.\n",
        "    # Here we are going to have 28 time step\n",
        "    layers.SimpleRNN(256, return_sequences=True, activation='tanh'),\n",
        ")\n",
        "model.add(layers.SimpleRNN(256, activation='tanh'))\n",
        "# Output Layer\n",
        "model.add(layers.Dense(10))\n",
        "\n",
        "print(model.summary)"
      ],
      "execution_count": null,
      "outputs": [
        {
          "output_type": "stream",
          "text": [
            "<bound method Model.summary of <tensorflow.python.keras.engine.sequential.Sequential object at 0x7f617928f590>>\n"
          ],
          "name": "stdout"
        }
      ]
    },
    {
      "cell_type": "markdown",
      "metadata": {
        "id": "G6TjtzVN-RH-"
      },
      "source": [
        "### GRU\n",
        "\n",
        "This should work better than Simple RNN"
      ]
    },
    {
      "cell_type": "code",
      "metadata": {
        "colab": {
          "base_uri": "https://localhost:8080/"
        },
        "id": "Dy1Rtmk8-UT8",
        "outputId": "6f0c4727-0a9c-4c61-9467-5ce76bb2a6c7"
      },
      "source": [
        "model = keras.Sequential()\n",
        "model.add(keras.Input(shape=(None, 28))) #We dont to have a specific number of time step we dont need to specify that dementions\n",
        "model.add(\n",
        "    layers.GRU(256, return_sequences=True, activation='tanh'),\n",
        ")\n",
        "model.add(layers.GRU(256, activation='tanh'))\n",
        "# Output Layer\n",
        "model.add(layers.Dense(10))\n",
        "\n",
        "print(model.summary)"
      ],
      "execution_count": null,
      "outputs": [
        {
          "output_type": "stream",
          "text": [
            "<bound method Model.summary of <tensorflow.python.keras.engine.sequential.Sequential object at 0x7f6176e9f590>>\n"
          ],
          "name": "stdout"
        }
      ]
    },
    {
      "cell_type": "markdown",
      "metadata": {
        "id": "xkzvfXbL_sGa"
      },
      "source": [
        "### LSTMs\n",
        "\n",
        "A little better than GRUs"
      ]
    },
    {
      "cell_type": "markdown",
      "metadata": {
        "id": "a4Z8PS4dAG4J"
      },
      "source": [
        "One Directional"
      ]
    },
    {
      "cell_type": "code",
      "metadata": {
        "colab": {
          "base_uri": "https://localhost:8080/"
        },
        "id": "1p33KzJU_vAp",
        "outputId": "b2390cae-e5e3-471d-ebdf-0f6d964539c1"
      },
      "source": [
        "model = keras.Sequential()\n",
        "model.add(keras.Input(shape=(None, 28))) #We dont to have a specific number of time step we dont need to specify that dementions\n",
        "model.add(\n",
        "    layers.LSTM(256, return_sequences=True, activation='tanh'),\n",
        ")\n",
        "model.add(layers.LSTM(256, activation='tanh'))\n",
        "# Output Layer\n",
        "model.add(layers.Dense(10))\n",
        "\n",
        "print(model.summary)"
      ],
      "execution_count": null,
      "outputs": [
        {
          "output_type": "stream",
          "text": [
            "<bound method Model.summary of <tensorflow.python.keras.engine.sequential.Sequential object at 0x7f61793fc710>>\n"
          ],
          "name": "stdout"
        }
      ]
    },
    {
      "cell_type": "markdown",
      "metadata": {
        "id": "LjassjfuAI0J"
      },
      "source": [
        "Bidirectional LSTMs"
      ]
    },
    {
      "cell_type": "code",
      "metadata": {
        "id": "zOVkf9p3AMQd"
      },
      "source": [
        "model = keras.Sequential()\n",
        "model.add(keras.Input(shape=(None, 28))) #We dont to have a specific number of time step we dont need to specify that dementions\n",
        "model.add(\n",
        "    # We are specifying number of nodes for each hidden state i.e 256\n",
        "    layers.Bidirectional(\n",
        "        layers.LSTM(256, return_sequences=True, activation='tanh'),\n",
        "    )\n",
        "    # We are going to get 512 nodes instead of 256\n",
        "    # One going Forward and One going Backward\n",
        ")\n",
        "model.add(\n",
        "    layers.Bidirectional(\n",
        "      layers.LSTM(256, activation='tanh')    \n",
        "    )\n",
        "\n",
        "# Output Layer\n",
        "model.add(layers.Dense(10))\n",
        "\n",
        "print(model.summary)"
      ],
      "execution_count": null,
      "outputs": []
    },
    {
      "cell_type": "code",
      "metadata": {
        "colab": {
          "background_save": true,
          "base_uri": "https://localhost:8080/"
        },
        "id": "jM7cD-S6-ckR",
        "outputId": "c0da9062-91ad-4263-d37b-cd758b682459"
      },
      "source": [
        "model.compile(\n",
        "    loss=keras.losses.SparseCategoricalCrossentropy(from_logits=True),\n",
        "    optimizer=keras.optimizers.Adam(lr=0.001),\n",
        "    metrics=[\"accuracy\"],\n",
        ")\n",
        "\n",
        "model.fit(x_train, y_train, batch_size=64, epochs=10, verbose=2)\n",
        "model.evaluate(x_test, y_test, batch_size=64, verbose=2)"
      ],
      "execution_count": null,
      "outputs": [
        {
          "output_type": "stream",
          "text": [
            "Epoch 1/10\n",
            "938/938 - 278s - loss: 0.3075 - accuracy: 0.8990\n",
            "Epoch 2/10\n",
            "938/938 - 271s - loss: 0.0838 - accuracy: 0.9743\n",
            "Epoch 3/10\n",
            "938/938 - 273s - loss: 0.0583 - accuracy: 0.9820\n",
            "Epoch 4/10\n",
            "938/938 - 277s - loss: 0.0452 - accuracy: 0.9857\n",
            "Epoch 5/10\n",
            "938/938 - 286s - loss: 0.0388 - accuracy: 0.9877\n",
            "Epoch 6/10\n",
            "938/938 - 284s - loss: 0.0326 - accuracy: 0.9898\n",
            "Epoch 7/10\n",
            "938/938 - 274s - loss: 0.0289 - accuracy: 0.9912\n",
            "Epoch 8/10\n",
            "938/938 - 277s - loss: 0.0231 - accuracy: 0.9925\n",
            "Epoch 9/10\n",
            "938/938 - 275s - loss: 0.0193 - accuracy: 0.9939\n",
            "Epoch 10/10\n",
            "938/938 - 279s - loss: 0.0203 - accuracy: 0.9936\n",
            "157/157 - 14s - loss: 0.0356 - accuracy: 0.9900\n"
          ],
          "name": "stdout"
        },
        {
          "output_type": "execute_result",
          "data": {
            "text/plain": [
              "[0.0355784110724926, 0.9900000095367432]"
            ]
          },
          "metadata": {
            "tags": []
          },
          "execution_count": 0
        }
      ]
    },
    {
      "cell_type": "markdown",
      "metadata": {
        "id": "rXrtqyJYD1KJ"
      },
      "source": [
        "---\n",
        "## Model Subclassing\n",
        "---"
      ]
    },
    {
      "cell_type": "markdown",
      "metadata": {
        "id": "MURRF7DqD7ly"
      },
      "source": [
        "Reloding the data"
      ]
    },
    {
      "cell_type": "code",
      "metadata": {
        "id": "l12_IZoB-hf4"
      },
      "source": [
        "(x_train, y_train), (x_test, y_test) = mnist.load_data()\n",
        "\n",
        "#Here we are adding Number of Channels\n",
        "x_train = x_train.reshape(-1, 28, 28, 1).astype(\"float32\") / 255.0\n",
        "x_test = x_test.reshape(-1, 28, 28, 1).astype(\"float32\") / 255.0"
      ],
      "execution_count": null,
      "outputs": []
    },
    {
      "cell_type": "markdown",
      "metadata": {
        "id": "v66o-7HQgVjK"
      },
      "source": [
        "Common Structure is <br>\n",
        "CNN -> BatchNorm -> ReLU"
      ]
    },
    {
      "cell_type": "code",
      "metadata": {
        "id": "F8a4t2W2EFs6"
      },
      "source": [
        "class CNNBlock(layers.Layer):\n",
        "  # Here layers is going to keep track of everything under the hood for doing back propogation and all\n",
        "\n",
        "  def __init__(self, out_channels, kernel_size = 3):\n",
        "    super(CNNBlock, self).__init__()\n",
        "    self.conv = layers.Conv2D(out_channels, kernel_size, padding= 'same')\n",
        "    self.bn = layers.BatchNormalization()\n",
        "\n",
        "  def call(self, input_tensor, training = False):\n",
        "    x = self.conv(input_tensor)\n",
        "    x = self.bn(x, training = training)\n",
        "    x = tf.nn.relu(x)\n",
        "    return x \n"
      ],
      "execution_count": null,
      "outputs": []
    },
    {
      "cell_type": "code",
      "metadata": {
        "id": "8FUPKjAGGcs-"
      },
      "source": [
        "model = keras.Sequential(\n",
        "    [\n",
        "     CNNBlock(32),\n",
        "     CNNBlock(64),\n",
        "     CNNBlock(128),\n",
        "     layers.Flatten(),\n",
        "     layers.Dense(10),\n",
        "    ]\n",
        ")"
      ],
      "execution_count": null,
      "outputs": []
    },
    {
      "cell_type": "markdown",
      "metadata": {
        "id": "OQ9Pbpo5pgw5"
      },
      "source": [
        "Simpling compiling using model subclass "
      ]
    },
    {
      "cell_type": "code",
      "metadata": {
        "colab": {
          "base_uri": "https://localhost:8080/"
        },
        "id": "Si2otr94g76T",
        "outputId": "25035a2c-d0f1-44c7-b615-72daf001a21a"
      },
      "source": [
        "model.compile(\n",
        "    loss = keras.losses.SparseCategoricalCrossentropy(from_logits=True),\n",
        "    optimizer = keras.optimizers.Adam(),\n",
        "    metrics = ['accuracy'], \n",
        ")\n",
        "\n",
        "model.fit(x_train, y_train, batch_size=64, epochs=3, verbose=2)\n",
        "model.evaluate(x_test, y_test, batch_size=64, verbose=2)"
      ],
      "execution_count": null,
      "outputs": [
        {
          "output_type": "stream",
          "text": [
            "Epoch 1/3\n",
            "938/938 - 623s - loss: 0.5802 - accuracy: 0.9467\n",
            "Epoch 2/3\n",
            "938/938 - 624s - loss: 0.1009 - accuracy: 0.9813\n",
            "Epoch 3/3\n",
            "938/938 - 616s - loss: 0.0352 - accuracy: 0.9894\n",
            "157/157 - 25s - loss: 0.0594 - accuracy: 0.9843\n"
          ],
          "name": "stdout"
        },
        {
          "output_type": "execute_result",
          "data": {
            "text/plain": [
              "[0.0593649223446846, 0.9843000173568726]"
            ]
          },
          "metadata": {
            "tags": []
          },
          "execution_count": 8
        }
      ]
    },
    {
      "cell_type": "markdown",
      "metadata": {
        "id": "X9RGIYPMlFWg"
      },
      "source": [
        "Creating a Resedual Network\n"
      ]
    },
    {
      "cell_type": "code",
      "metadata": {
        "id": "ID_bHLHxlLqw"
      },
      "source": [
        "class ResBlock(layers.Layer):\n",
        "    def __init__(self, channels):\n",
        "        super(ResBlock, self).__init__()\n",
        "        self.channels = channels\n",
        "        # There are 3 blocks and each block is CNN, a batchnorm and ReLU\n",
        "        self.cnn1 = CNNBlock(channels[0], 3)\n",
        "        self.cnn2 = CNNBlock(channels[1], 3)\n",
        "        self.cnn3 = CNNBlock(channels[2], 3)\n",
        "        # MaxPooling is for inpute size the height and width\n",
        "        self.pooling = layers.MaxPooling2D()\n",
        "        # To have same number of channels\n",
        "        self.identity_mapping = layers.Conv2D(channels[1], 3, padding=\"same\")\n",
        "\n",
        "    def call(self, input_tensor, training=False):\n",
        "        x = self.cnn1(input_tensor, training=training)\n",
        "        x = self.cnn2(x, training=training)\n",
        "        x = self.cnn3(x + self.identity_mapping(input_tensor), training=training,)\n",
        "        x = self.pooling(x)\n",
        "        return x"
      ],
      "execution_count": null,
      "outputs": []
    },
    {
      "cell_type": "markdown",
      "metadata": {
        "id": "LZia31zPnHiP"
      },
      "source": [
        "To have a final model we inherit keras.Model\n",
        "<br>\n",
        "Which can have the functionality of fit i.e training a model, evaluating a model "
      ]
    },
    {
      "cell_type": "code",
      "metadata": {
        "id": "i7I4WcEynHyg"
      },
      "source": [
        "class ResNet_Like(keras.Model):\n",
        "    def __init__(self, num_classes=10):\n",
        "        super(ResNet_Like, self).__init__()\n",
        "        # Specifying number of channels for each of the CNN block in this RES block\n",
        "        self.block1 = ResBlock([32, 32, 64])\n",
        "        self.block2 = ResBlock([128, 128, 256])\n",
        "        self.block3 = ResBlock([128, 256, 512])\n",
        "        # Average pool height and Width can also use layers.Flatten()\n",
        "        self.pool = layers.GlobalAveragePooling2D()\n",
        "        self.classifier = layers.Dense(num_classes)\n",
        "\n",
        "    def call(self, input_tensor, training=False):\n",
        "        x = self.block1(input_tensor, training=training)\n",
        "        x = self.block2(x, training=training)\n",
        "        x = self.block3(x, training=training)\n",
        "        x = self.pool(x, training=training)\n",
        "        x = self.classifier(x)\n",
        "        return x\n",
        "\n",
        "    # This will overwrite the model call. To get output shape\n",
        "    def model(self):\n",
        "        x = keras.Input(shape=(28, 28, 1))\n",
        "        return keras.Model(inputs=[x], outputs=self.call(x))"
      ],
      "execution_count": null,
      "outputs": []
    },
    {
      "cell_type": "code",
      "metadata": {
        "colab": {
          "base_uri": "https://localhost:8080/"
        },
        "id": "8vgQYZouhix5",
        "outputId": "b45023ee-c650-4caa-f6f8-b497ab8250a2"
      },
      "source": [
        "model = ResNet_Like().model()\n",
        "base_input = model.layers[0].input\n",
        "base_output = model.layers[2].output\n",
        "output = layers.Dense(10)(layers.Flatten()(base_output))\n",
        "model = keras.Model(base_input, output)\n",
        "\n",
        "model.compile(\n",
        "    optimizer=keras.optimizers.Adam(),\n",
        "    loss=keras.losses.SparseCategoricalCrossentropy(from_logits=True),\n",
        "    metrics=[\"accuracy\"],\n",
        ")\n",
        "\n",
        "model.fit(x_train, y_train, batch_size=64, epochs=1, verbose=2)\n",
        "model.evaluate(x_test, y_test, batch_size=64, verbose=2)"
      ],
      "execution_count": null,
      "outputs": [
        {
          "output_type": "stream",
          "text": [
            "938/938 - 1029s - loss: 0.1030 - accuracy: 0.9690\n",
            "157/157 - 46s - loss: 0.0375 - accuracy: 0.9869\n"
          ],
          "name": "stdout"
        },
        {
          "output_type": "stream",
          "text": [
            "WARNING:absl:Found untraced functions such as cnn_block_3_layer_call_and_return_conditional_losses, cnn_block_3_layer_call_fn, cnn_block_4_layer_call_and_return_conditional_losses, cnn_block_4_layer_call_fn, cnn_block_5_layer_call_and_return_conditional_losses while saving (showing 5 of 70). These functions will not be directly callable after loading.\n",
            "WARNING:absl:Found untraced functions such as cnn_block_3_layer_call_and_return_conditional_losses, cnn_block_3_layer_call_fn, cnn_block_4_layer_call_and_return_conditional_losses, cnn_block_4_layer_call_fn, cnn_block_5_layer_call_and_return_conditional_losses while saving (showing 5 of 70). These functions will not be directly callable after loading.\n"
          ],
          "name": "stderr"
        },
        {
          "output_type": "stream",
          "text": [
            "INFO:tensorflow:Assets written to: pretrained/assets\n"
          ],
          "name": "stdout"
        },
        {
          "output_type": "stream",
          "text": [
            "INFO:tensorflow:Assets written to: pretrained/assets\n"
          ],
          "name": "stderr"
        }
      ]
    },
    {
      "cell_type": "markdown",
      "metadata": {
        "id": "ReelYJPDrbGn"
      },
      "source": [
        "---\n",
        "### Custom Layer\n",
        "---"
      ]
    },
    {
      "cell_type": "markdown",
      "metadata": {
        "id": "Kzdc4g7orvZl"
      },
      "source": [
        "Reloading the data"
      ]
    },
    {
      "cell_type": "code",
      "metadata": {
        "id": "YZ81GJr_qgMa"
      },
      "source": [
        "(x_train, y_train), (x_test, y_test) = mnist.load_data()\n",
        "\n",
        "x_train = x_train.reshape(-1, 28 * 28).astype(\"float32\") / 255.0\n",
        "x_test = x_test.reshape(-1, 28 * 28).astype(\"float32\") / 255.0"
      ],
      "execution_count": null,
      "outputs": []
    },
    {
      "cell_type": "markdown",
      "metadata": {
        "id": "G8W4kgEGs3rh"
      },
      "source": [
        "Creating a Custom Dense Layer"
      ]
    },
    {
      "cell_type": "code",
      "metadata": {
        "id": "sWM57yLSs8uk"
      },
      "source": [
        "class Dense(layers.Layer):\n",
        "    def __init__(self, units, input_dim):\n",
        "        super(Dense, self).__init__()\n",
        "        # initializing Weight \n",
        "        self.w = self.add_weight(\n",
        "            # name is for saving and loading models\n",
        "            name=\"w\",\n",
        "            # input demention is the number of nodes we have and the unit is the nodes we are going to map it to. So when we are mapping the layer to 64 the unit is 64\n",
        "            shape=(input_dim, units),\n",
        "            initializer=\"random_normal\",\n",
        "            # For the case where some parameters are not trainable. Here all the parameters are trainable\n",
        "            trainable=True,\n",
        "        )\n",
        "        self.b = self.add_weight(\n",
        "            name=\"b\", shape=(units,), initializer=\"zeros\", trainable=True\n",
        "        )\n",
        "\n",
        "    def call(self, inputs):\n",
        "        return tf.matmul(inputs, self.w) + self.b"
      ],
      "execution_count": null,
      "outputs": []
    },
    {
      "cell_type": "markdown",
      "metadata": {
        "id": "HkC08e0tu0dL"
      },
      "source": [
        "Now to call the dense layer inside MyModel we use self.dense1 = Dense(64,784) <br>\n",
        "Now to run the layer regardless of mentioning dimentions\n",
        "<br>So to avoide mentioning the input part while calling Dense lets use build method  "
      ]
    },
    {
      "cell_type": "code",
      "metadata": {
        "id": "_Bc0bZiTtT85"
      },
      "source": [
        "class Dense(layers.Layer):\n",
        "    def __init__(self, units):\n",
        "        super(Dense, self).__init__()\n",
        "        self.units = units\n",
        "\n",
        "    def build(self, input_shape):\n",
        "        self.w = self.add_weight(\n",
        "            name=\"w\",\n",
        "            shape=(input_shape[-1], self.units),\n",
        "            initializer=\"random_normal\",\n",
        "            trainable=True,\n",
        "        )\n",
        "        self.b = self.add_weight(\n",
        "            name=\"b\", shape=(self.units,), initializer=\"random_normal\", trainable=True,\n",
        "        )\n",
        "\n",
        "    def call(self, inputs):\n",
        "        return tf.matmul(inputs, self.w) + self.b"
      ],
      "execution_count": null,
      "outputs": []
    },
    {
      "cell_type": "markdown",
      "metadata": {
        "id": "dH1lIBOOvoug"
      },
      "source": [
        "Creating Custom ReLU layer as well"
      ]
    },
    {
      "cell_type": "code",
      "metadata": {
        "id": "o9lfvyDsvstg"
      },
      "source": [
        "class MyReLU(layers.Layer):\n",
        "    def __init__(self):\n",
        "        super(MyReLU, self).__init__()\n",
        "\n",
        "    def call(self, x):\n",
        "        return tf.math.maximum(x, 0)"
      ],
      "execution_count": null,
      "outputs": []
    },
    {
      "cell_type": "code",
      "metadata": {
        "id": "mR7gT_Fdr79r"
      },
      "source": [
        "class MyModel(keras.Model):  # model.fit, model.evalute, model.predict\n",
        "    def __init__(self, num_classes=10):\n",
        "        super(MyModel, self).__init__()\n",
        "        # Creating 2 Dense layers \n",
        "        self.dense1 = Dense(64)\n",
        "        self.dense2 = Dense(num_classes)\n",
        "        self.relu = MyReLU()\n",
        "\n",
        "        # self.dense1 = layers.Dense(64)\n",
        "        # self.dense3 = layers.Dense(num_classes)\n",
        "\n",
        "    def call(self, x):\n",
        "        x = self.relu(self.dense1(x))\n",
        "        return self.dense2(x)"
      ],
      "execution_count": null,
      "outputs": []
    },
    {
      "cell_type": "code",
      "metadata": {
        "colab": {
          "base_uri": "https://localhost:8080/"
        },
        "id": "C5-5JRprsk6M",
        "outputId": "9260d22f-e9c4-4127-a9ee-d649bc178d1b"
      },
      "source": [
        "model = MyModel()\n",
        "model.compile(\n",
        "    loss=keras.losses.SparseCategoricalCrossentropy(from_logits=True),\n",
        "    optimizer=keras.optimizers.Adam(),\n",
        "    metrics=[\"accuracy\"],\n",
        ")\n",
        "\n",
        "model.fit(x_train, y_train, batch_size=32, epochs=20, verbose=2)\n",
        "model.evaluate(x_test, y_test, batch_size=32, verbose=2)"
      ],
      "execution_count": null,
      "outputs": [
        {
          "output_type": "stream",
          "text": [
            "Epoch 1/20\n",
            "1875/1875 - 2s - loss: 0.3481 - accuracy: 0.9037\n",
            "Epoch 2/20\n",
            "1875/1875 - 2s - loss: 0.1671 - accuracy: 0.9518\n",
            "Epoch 3/20\n",
            "1875/1875 - 2s - loss: 0.1204 - accuracy: 0.9650\n",
            "Epoch 4/20\n",
            "1875/1875 - 2s - loss: 0.0944 - accuracy: 0.9722\n",
            "Epoch 5/20\n",
            "1875/1875 - 2s - loss: 0.0765 - accuracy: 0.9769\n",
            "Epoch 6/20\n",
            "1875/1875 - 2s - loss: 0.0641 - accuracy: 0.9806\n",
            "Epoch 7/20\n",
            "1875/1875 - 2s - loss: 0.0546 - accuracy: 0.9837\n",
            "Epoch 8/20\n",
            "1875/1875 - 2s - loss: 0.0461 - accuracy: 0.9857\n",
            "Epoch 9/20\n",
            "1875/1875 - 2s - loss: 0.0402 - accuracy: 0.9883\n",
            "Epoch 10/20\n",
            "1875/1875 - 2s - loss: 0.0348 - accuracy: 0.9892\n",
            "Epoch 11/20\n",
            "1875/1875 - 2s - loss: 0.0303 - accuracy: 0.9907\n",
            "Epoch 12/20\n",
            "1875/1875 - 2s - loss: 0.0260 - accuracy: 0.9921\n",
            "Epoch 13/20\n",
            "1875/1875 - 2s - loss: 0.0233 - accuracy: 0.9930\n",
            "Epoch 14/20\n",
            "1875/1875 - 2s - loss: 0.0199 - accuracy: 0.9943\n",
            "Epoch 15/20\n",
            "1875/1875 - 2s - loss: 0.0183 - accuracy: 0.9948\n",
            "Epoch 16/20\n",
            "1875/1875 - 2s - loss: 0.0158 - accuracy: 0.9950\n",
            "Epoch 17/20\n",
            "1875/1875 - 2s - loss: 0.0140 - accuracy: 0.9960\n",
            "Epoch 18/20\n",
            "1875/1875 - 2s - loss: 0.0126 - accuracy: 0.9965\n",
            "Epoch 19/20\n",
            "1875/1875 - 2s - loss: 0.0122 - accuracy: 0.9963\n",
            "Epoch 20/20\n",
            "1875/1875 - 2s - loss: 0.0101 - accuracy: 0.9972\n",
            "313/313 - 0s - loss: 0.1094 - accuracy: 0.9735\n"
          ],
          "name": "stdout"
        },
        {
          "output_type": "execute_result",
          "data": {
            "text/plain": [
              "[0.10938333719968796, 0.9735000133514404]"
            ]
          },
          "metadata": {
            "tags": []
          },
          "execution_count": 27
        }
      ]
    },
    {
      "cell_type": "markdown",
      "metadata": {
        "id": "1Lei4-2-xNG8"
      },
      "source": [
        "### Saving and Loading Models\n",
        "\n",
        "\n",
        "*   To Save a Model weight \n",
        "*   Save and Load Entire Model (Serializing Model)\n",
        "  * Save Witghts\n",
        "  * Model Architecture\n",
        "  * Training Configuration (model.compile)\n",
        "  * Optimizers and states \n",
        "\n",
        "  So when we are saving and Loading entire model it is going to save as a data structure that means it can be loaded on different tensorflow frameworks like tensorflow Javascript, tensorflow Lite. We don't need to do any conversion  \n",
        "\n",
        "So after eveluating we can append the code for saving.\n"
      ]
    },
    {
      "cell_type": "code",
      "metadata": {
        "id": "nYjevkKOweST"
      },
      "source": [
        "# model.save_weights('foldername')\n",
        "# To save entire model\n",
        "# model.save('folderName')\n",
        "\n",
        "# To load the model which is entirely saved\n",
        "# model = keras.models.load_model('foldername')"
      ],
      "execution_count": null,
      "outputs": []
    }
  ]
}