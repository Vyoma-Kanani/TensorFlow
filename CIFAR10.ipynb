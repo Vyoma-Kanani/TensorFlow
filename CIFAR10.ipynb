{
  "nbformat": 4,
  "nbformat_minor": 0,
  "metadata": {
    "colab": {
      "name": "CIFAR10_Tensorflow.ipynb",
      "provenance": [],
      "collapsed_sections": [],
      "authorship_tag": "ABX9TyM3+BzLJ/Ld2v3p6Q5FF1cP",
      "include_colab_link": true
    },
    "kernelspec": {
      "name": "python3",
      "display_name": "Python 3"
    },
    "language_info": {
      "name": "python"
    }
  },
  "cells": [
    {
      "cell_type": "markdown",
      "metadata": {
        "id": "view-in-github",
        "colab_type": "text"
      },
      "source": [
        "<a href=\"https://colab.research.google.com/github/Vyoma-Kanani/TensorFlow/blob/main/CIFAR10.ipynb\" target=\"_parent\"><img src=\"https://colab.research.google.com/assets/colab-badge.svg\" alt=\"Open In Colab\"/></a>"
      ]
    },
    {
      "cell_type": "markdown",
      "metadata": {
        "id": "LH0LlhWrGlF8"
      },
      "source": [
        "---\n",
        "# CIFAR10 Dataset\n",
        "---\n",
        "\n",
        "This dataset is contains natural images of 10 different classes like airplane, automobile, bird, etc.\n",
        "\n",
        "Number of training images are 50000 <br>\n",
        "Number of test images are 10000<br>\n",
        "Each image is of 32*32 pixels<br>\n",
        "RGB colors - 3 channels \n",
        "\n",
        "\n",
        "\n",
        "```\n",
        "Concept of Convolution Neutal Network is used in this notebook.\n",
        "```\n",
        "\n"
      ]
    },
    {
      "cell_type": "code",
      "metadata": {
        "id": "S04GoZArGYjH"
      },
      "source": [
        "import tensorflow as tf\n",
        "from tensorflow import keras\n",
        "from tensorflow.keras import layers, regularizers\n",
        "from tensorflow.keras.datasets import cifar10"
      ],
      "execution_count": null,
      "outputs": []
    },
    {
      "cell_type": "markdown",
      "metadata": {
        "id": "2qLDTgK_Gj7x"
      },
      "source": [
        "Loading data"
      ]
    },
    {
      "cell_type": "code",
      "metadata": {
        "id": "2ElU1zADI0Y5"
      },
      "source": [
        "(x_train, y_train), (x_test, y_test) = cifar10.load_data()\n",
        "# Converting into float32\n",
        "# Normalization so that pixel vallues are between 0 and 1\n",
        "x_train = x_train.astype(\"float32\") / 255.0\n",
        "x_test = x_test.astype(\"float32\") / 255.0 "
      ],
      "execution_count": null,
      "outputs": []
    },
    {
      "cell_type": "markdown",
      "metadata": {
        "id": "hw8CCUiQJp8k"
      },
      "source": [
        "## Model\n",
        "\n",
        "#### Sequential "
      ]
    },
    {
      "cell_type": "code",
      "metadata": {
        "colab": {
          "base_uri": "https://localhost:8080/"
        },
        "id": "ogDrq_umJnRx",
        "outputId": "8c8afe6a-ee6e-44c1-9167-3783bc1f4fe6"
      },
      "source": [
        "model = keras.Sequential([\n",
        "  # Here as we are using convolution neural network we are going to maintain the shape i.e 32 height 32 width and 3 channels for RGB\n",
        "  keras.Input(shape = (32, 32, 3)),\n",
        "  # Here the first argument is for how many channels we want this convolution layer to output\n",
        "  # Writting single integer means same length and height i.e. (3,3)  \n",
        "  # Padding are valid(default) and same. \n",
        "  # Same refers that the output will have same number of inputs which are passed in our case 32. Valid the output is going to change depending on kernal size. \n",
        "  layers.Conv2D(32, 3, padding = \"valid\", activation='relu' ),\n",
        "  layers.MaxPooling2D(pool_size=(2,2)),  #MaxPooling pool_size is a default argument\n",
        "  layers.Conv2D(64, 3, activation='relu'),\n",
        "  layers.MaxPooling2D(),\n",
        "  layers.Conv2D(128, 3, activation='relu'),\n",
        "  # Output Layer of convolution network\n",
        "  layers.Flatten(),\n",
        "  # Intermediate Layer with 64 nodes fully connected\n",
        "  layers.Dense(64, activation='relu'),\n",
        "  # Output of the whole network with 10 nodes\n",
        "  layers.Dense(10),\n",
        "])\n",
        "\n",
        "print(model.summary)"
      ],
      "execution_count": null,
      "outputs": [
        {
          "output_type": "stream",
          "text": [
            "<bound method Model.summary of <tensorflow.python.keras.engine.sequential.Sequential object at 0x7f72121531d0>>\n"
          ],
          "name": "stdout"
        }
      ]
    },
    {
      "cell_type": "markdown",
      "metadata": {
        "id": "WlCiyJUWS-ab"
      },
      "source": [
        "#### Functional API"
      ]
    },
    {
      "cell_type": "code",
      "metadata": {
        "id": "wbY_SRoFS-zX"
      },
      "source": [
        "def my_model():\n",
        "  inputs = keras.Input(shape=(32,32,3))\n",
        "  #Here we are not using activation function as we want to sent it to batchNorm first then conv function and then to activation function\n",
        "  x =layers.Conv2D(32,3)(inputs)    \n",
        "  x = layers.BatchNormalization()(x)\n",
        "  x= keras.activations.relu(x) \n",
        "  x = layers.MaxPooling2D()(x)\n",
        "  x = layers.Conv2D(64, 5, padding='same')(x)\n",
        "  x = layers.BatchNormalization()(x)\n",
        "  x = keras.activations.relu(x)\n",
        "  x = layers.Conv2D(128,3)(x)\n",
        "  x = layers.BatchNormalization()(x)\n",
        "  x = keras.activations.relu(x)\n",
        "  x = layers.Flatten()(x)\n",
        "  x = layers.Dense(64, activation='relu')(x)\n",
        "  outputs = layers.Dense(10)(x)\n",
        "\n",
        "  model = keras.Model(inputs = inputs, outputs = outputs)\n",
        "  \n",
        "  return model"
      ],
      "execution_count": null,
      "outputs": []
    },
    {
      "cell_type": "code",
      "metadata": {
        "id": "kJm9u1x9uQa2"
      },
      "source": [
        "model = my_model()"
      ],
      "execution_count": null,
      "outputs": []
    },
    {
      "cell_type": "markdown",
      "metadata": {
        "id": "hGL36UNXNix4"
      },
      "source": [
        "Compiling Model"
      ]
    },
    {
      "cell_type": "code",
      "metadata": {
        "colab": {
          "base_uri": "https://localhost:8080/"
        },
        "id": "Lrk0zLNsNgdR",
        "outputId": "9455abbf-300a-475d-94d1-e8e3f17431ac"
      },
      "source": [
        "model.compile(\n",
        "    loss = keras.losses.SparseCategoricalCrossentropy(from_logits=True),\n",
        "    optimizer = keras.optimizers.Adam(lr=3e-4),\n",
        "    metrics = ['accuracy'], \n",
        ")\n",
        "\n",
        "model.fit(x_train, y_train, batch_size=64, epochs=10, verbose=2)\n",
        "model.evaluate(x_test, y_test, batch_size = 64, verbose= 2)\n"
      ],
      "execution_count": null,
      "outputs": [
        {
          "output_type": "stream",
          "text": [
            "Epoch 1/10\n",
            "782/782 - 242s - loss: 1.3176 - accuracy: 0.5302\n",
            "Epoch 2/10\n",
            "782/782 - 241s - loss: 0.9085 - accuracy: 0.6809\n",
            "Epoch 3/10\n",
            "782/782 - 240s - loss: 0.7442 - accuracy: 0.7401\n",
            "Epoch 4/10\n",
            "782/782 - 241s - loss: 0.6299 - accuracy: 0.7776\n",
            "Epoch 5/10\n",
            "782/782 - 243s - loss: 0.5312 - accuracy: 0.8153\n",
            "Epoch 6/10\n",
            "782/782 - 242s - loss: 0.4537 - accuracy: 0.8424\n",
            "Epoch 7/10\n",
            "782/782 - 242s - loss: 0.3836 - accuracy: 0.8664\n",
            "Epoch 8/10\n",
            "782/782 - 246s - loss: 0.3209 - accuracy: 0.8897\n",
            "Epoch 9/10\n",
            "782/782 - 247s - loss: 0.2578 - accuracy: 0.9132\n",
            "Epoch 10/10\n",
            "782/782 - 247s - loss: 0.2121 - accuracy: 0.9303\n",
            "157/157 - 12s - loss: 1.1163 - accuracy: 0.6947\n"
          ],
          "name": "stdout"
        },
        {
          "output_type": "execute_result",
          "data": {
            "text/plain": [
              "[1.1163208484649658, 0.6947000026702881]"
            ]
          },
          "metadata": {
            "tags": []
          },
          "execution_count": 14
        }
      ]
    },
    {
      "cell_type": "markdown",
      "metadata": {
        "id": "djhNfiddvDOV"
      },
      "source": [
        "So it seems that there is huge gap between Training Accuracy and Test Accuracy<br>\n",
        "So the Model is overfitting the training data<br><br>\n",
        "Method to reduce overfitting is call **Regularization**\n",
        "<br> Here we are using 3 methods\n",
        "\n",
        "\n",
        "*   L2\n",
        "*   Dropout\n",
        "* Batch Norm\n",
        "\n",
        "\n",
        "\n"
      ]
    },
    {
      "cell_type": "markdown",
      "metadata": {
        "id": "y3OB5R2r1SCv"
      },
      "source": [
        "### Modified Above Code"
      ]
    },
    {
      "cell_type": "code",
      "metadata": {
        "id": "qAg5X-d2vK6C"
      },
      "source": [
        "def my_model():\n",
        "    inputs = keras.Input(shape=(32, 32, 3))\n",
        "    x = layers.Conv2D(32, 3, padding=\"same\", kernel_regularizer=regularizers.l2(0.01),)(\n",
        "        inputs\n",
        "    )\n",
        "    x = layers.BatchNormalization()(x)\n",
        "    x = keras.activations.relu(x)\n",
        "    x = layers.MaxPooling2D()(x)\n",
        "    x = layers.Conv2D(64, 3, padding=\"same\", kernel_regularizer=regularizers.l2(0.01),)(\n",
        "        x\n",
        "    )\n",
        "    x = layers.BatchNormalization()(x)\n",
        "    x = keras.activations.relu(x)\n",
        "    x = layers.MaxPooling2D()(x)\n",
        "    x = layers.Conv2D(\n",
        "        128, 3, padding=\"same\", kernel_regularizer=regularizers.l2(0.01),\n",
        "    )(x)\n",
        "    x = layers.BatchNormalization()(x)\n",
        "    x = keras.activations.relu(x)\n",
        "    x = layers.Flatten()(x)\n",
        "    x = layers.Dense(64, activation=\"relu\", kernel_regularizer=regularizers.l2(0.01),)(\n",
        "        x\n",
        "    )\n",
        "    x = layers.Dropout(0.5)(x)\n",
        "    outputs = layers.Dense(10)(x)\n",
        "    model = keras.Model(inputs=inputs, outputs=outputs)\n",
        "    return model\n",
        "\n",
        "\n",
        "model = my_model()"
      ],
      "execution_count": null,
      "outputs": []
    },
    {
      "cell_type": "code",
      "metadata": {
        "colab": {
          "base_uri": "https://localhost:8080/"
        },
        "id": "8UABLAv03hlp",
        "outputId": "69046d27-1c1f-47dd-aad9-594d5572f687"
      },
      "source": [
        "model.compile(\n",
        "    loss = keras.losses.SparseCategoricalCrossentropy(from_logits=True),\n",
        "    optimizer = keras.optimizers.Adam(lr=3e-4),\n",
        "    metrics = ['accuracy'], \n",
        ")\n",
        "\n",
        "model.fit(x_train, y_train, batch_size=64, epochs=10, verbose=2)\n",
        "model.evaluate(x_test, y_test, batch_size = 64, verbose= 2)"
      ],
      "execution_count": null,
      "outputs": [
        {
          "output_type": "stream",
          "text": [
            "Epoch 1/10\n",
            "782/782 - 133s - loss: 2.7236 - accuracy: 0.3823\n",
            "Epoch 2/10\n",
            "782/782 - 132s - loss: 1.8824 - accuracy: 0.4787\n",
            "Epoch 3/10\n",
            "782/782 - 132s - loss: 1.6334 - accuracy: 0.5118\n",
            "Epoch 4/10\n",
            "782/782 - 133s - loss: 1.5224 - accuracy: 0.5378\n",
            "Epoch 5/10\n",
            "782/782 - 132s - loss: 1.4536 - accuracy: 0.5548\n",
            "Epoch 6/10\n",
            "782/782 - 134s - loss: 1.3968 - accuracy: 0.5699\n",
            "Epoch 7/10\n",
            "782/782 - 134s - loss: 1.3803 - accuracy: 0.5776\n",
            "Epoch 8/10\n",
            "782/782 - 134s - loss: 1.3442 - accuracy: 0.5861\n",
            "Epoch 9/10\n",
            "782/782 - 134s - loss: 1.3251 - accuracy: 0.5960\n",
            "Epoch 10/10\n",
            "782/782 - 133s - loss: 1.3133 - accuracy: 0.6008\n",
            "157/157 - 7s - loss: 1.4044 - accuracy: 0.5850\n"
          ],
          "name": "stdout"
        },
        {
          "output_type": "execute_result",
          "data": {
            "text/plain": [
              "[1.4043841361999512, 0.5849999785423279]"
            ]
          },
          "metadata": {
            "tags": []
          },
          "execution_count": 64
        }
      ]
    },
    {
      "cell_type": "code",
      "metadata": {
        "id": "1VU0nFCe4OQy"
      },
      "source": [
        ""
      ],
      "execution_count": null,
      "outputs": []
    }
  ]
}